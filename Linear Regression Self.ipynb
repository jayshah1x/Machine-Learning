{
 "cells": [
  {
   "cell_type": "code",
   "execution_count": null,
   "metadata": {},
   "outputs": [],
   "source": []
  },
  {
   "cell_type": "code",
   "execution_count": 31,
   "metadata": {},
   "outputs": [
    {
     "data": {
      "image/png": "[encoded data removed]",
      "text/plain": [
       "<Figure size 432x288 with 1 Axes>"
      ]
     },
     "metadata": {
      "needs_background": "light"
     },
     "output_type": "display_data"
    }
   ],
   "source": [
    "import numpy as np\n",
    "import matplotlib.pyplot as plt\n",
    "\n",
    "\n",
    "def Regression_Function(x,y):\n",
    "    #Mean of X and Y\n",
    "    m_x = np.mean(x)\n",
    "    m_y = np.mean(y)\n",
    "    \n",
    "    Cov_xy = np.sum((x - m_x)*(y - m_y))\n",
    "    var_x = np.sum((x - m_x) * (x - m_x))\n",
    "    \n",
    "    thetha_0 = Cov_xy / var_x\n",
    "    \n",
    "    #Now calculating the bais\n",
    "    thetha_1 = m_y - (thetha_0*m_x)\n",
    "    \n",
    "    return (thetha_0,thetha_1)\n",
    "\n",
    "if __name__ == \"__main__\":\n",
    "    x = np.array([0, 1, 2, 3, 4, 5, 6, 7, 8, 9])\n",
    "    y = np.array([1, 3, 2, 5, 7, 8, 8,  9, 10, 12])\n",
    "    \n",
    "    #Receving the parameters for predection\n",
    "    (x_pred, y_pred) = Regression_Function(x, y)\n",
    "    \n",
    "    #Line of Regression\n",
    "    pred = x_pred + y_pred*x\n",
    "    \n",
    "    #Plotting the regression line\n",
    "    plt.plot(x, pred, color=\"g\")\n",
    "    \n",
    "    #Plotting the dataset  on graph\n",
    "    plt.scatter(x, y, color=\"m\", s = 30)\n",
    "    plt.show()\n",
    "    \n",
    "    \n",
    "    \n",
    "    "
   ]
  },
  {
   "cell_type": "code",
   "execution_count": null,
   "metadata": {},
   "outputs": [],
   "source": []
  }
 ],
 "metadata": {
  "kernelspec": {
   "display_name": "Python 3",
   "language": "python",
   "name": "python3"
  },
  "language_info": {
   "codemirror_mode": {
    "name": "ipython",
    "version": 3
   },
   "file_extension": ".py",
   "mimetype": "text/x-python",
   "name": "python",
   "nbconvert_exporter": "python",
   "pygments_lexer": "ipython3",
   "version": "3.7.3"
  }
 },
 "nbformat": 4,
 "nbformat_minor": 2
}
